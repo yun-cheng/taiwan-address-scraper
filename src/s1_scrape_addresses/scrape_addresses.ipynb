{
 "cells": [
  {
   "attachments": {},
   "cell_type": "markdown",
   "metadata": {},
   "source": [
    "# Scrape Addresses\n",
    "\n",
    "The addresses data we're going to scrape are originated from [Doorplate Query System](https://www.ris.gov.tw/app/portal/3053) that provided by the Dept. of Household Registration, M.O.I."
   ]
  },
  {
   "cell_type": "code",
   "execution_count": 1,
   "metadata": {},
   "outputs": [],
   "source": [
    "import os\n",
    "\n",
    "import pandas as pd\n",
    "from dotenv import load_dotenv\n",
    "from IPython import display\n",
    "from twocaptcha import TwoCaptcha\n",
    "\n",
    "from src.common.driver_helpers import start_driver\n",
    "from src.common.request_helpers import lines_to_dict\n",
    "from src.s1_scrape_addresses.helpers import (\n",
    "    get_address_data,\n",
    "    save_and_decode_captcha_image,\n",
    ")"
   ]
  },
  {
   "attachments": {},
   "cell_type": "markdown",
   "metadata": {},
   "source": [
    "## Setup environment\n",
    "\n",
    "`SESSION` will be added to the output file as postfix.\n",
    "\n",
    "`QUERY_END_DATE` is to set the end-date of query, it should in the format of `YYY-MM-DD`, the year should be `year - 1911`, e.g. `2022-12-01` turns into `111-12-01`."
   ]
  },
  {
   "cell_type": "code",
   "execution_count": 8,
   "metadata": {},
   "outputs": [
    {
     "name": "stdout",
     "output_type": "stream",
     "text": [
      "SESSION='221201'\n",
      "QUERY_END_DATE='111-12-01'\n"
     ]
    }
   ],
   "source": [
    "load_dotenv()\n",
    "\n",
    "SESSION: str = os.getenv(\"SESSION\")\n",
    "print(f'{SESSION=}')\n",
    "\n",
    "QUERY_END_DATE: str = os.getenv(\"QUERY_END_DATE\")\n",
    "print(f'{QUERY_END_DATE=}')\n",
    "\n",
    "img_dir = \"data/raw/captcha\"\n",
    "output_dir = \"results\"\n",
    "\n",
    "# * replace to your local driver and chrome path if you prefer running in local machine\n",
    "driver_path = \"Z:/apps/chromium_87.0.4276.0/chromedriver_86.0.4240.22.exe\"\n",
    "chrome_path = \"Z:/apps/chromium_87.0.4276.0/chrome.exe\""
   ]
  },
  {
   "attachments": {},
   "cell_type": "markdown",
   "metadata": {},
   "source": [
    "## Load services\n",
    "\n",
    "Input `driver_path` and `chrome_path` to `start_driver()` if you prefer running in local machine."
   ]
  },
  {
   "cell_type": "code",
   "execution_count": 20,
   "metadata": {},
   "outputs": [],
   "source": [
    "# driver = start_driver(driver_path=driver_path, chrome_path=chrome_path)  # run in local machine\n",
    "driver = start_driver()  # run in docker\n",
    "\n",
    "solver = TwoCaptcha(os.getenv(\"TWO_CAPTCHA_API_KEY\"))"
   ]
  },
  {
   "attachments": {},
   "cell_type": "markdown",
   "metadata": {},
   "source": [
    "## Read town data"
   ]
  },
  {
   "cell_type": "code",
   "execution_count": 5,
   "metadata": {},
   "outputs": [
    {
     "data": {
      "text/html": [
       "<div>\n",
       "<style scoped>\n",
       "    .dataframe tbody tr th:only-of-type {\n",
       "        vertical-align: middle;\n",
       "    }\n",
       "\n",
       "    .dataframe tbody tr th {\n",
       "        vertical-align: top;\n",
       "    }\n",
       "\n",
       "    .dataframe thead th {\n",
       "        text-align: right;\n",
       "    }\n",
       "</style>\n",
       "<table border=\"1\" class=\"dataframe\">\n",
       "  <thead>\n",
       "    <tr style=\"text-align: right;\">\n",
       "      <th></th>\n",
       "      <th>COUNTYCODE</th>\n",
       "      <th>TOWNCODE</th>\n",
       "    </tr>\n",
       "  </thead>\n",
       "  <tbody>\n",
       "    <tr>\n",
       "      <th>0</th>\n",
       "      <td>64000</td>\n",
       "      <td>64000160</td>\n",
       "    </tr>\n",
       "    <tr>\n",
       "      <th>1</th>\n",
       "      <td>10014</td>\n",
       "      <td>10014150</td>\n",
       "    </tr>\n",
       "    <tr>\n",
       "      <th>2</th>\n",
       "      <td>64000</td>\n",
       "      <td>64000120</td>\n",
       "    </tr>\n",
       "    <tr>\n",
       "      <th>3</th>\n",
       "      <td>10010</td>\n",
       "      <td>10010090</td>\n",
       "    </tr>\n",
       "    <tr>\n",
       "      <th>4</th>\n",
       "      <td>68000</td>\n",
       "      <td>68000130</td>\n",
       "    </tr>\n",
       "    <tr>\n",
       "      <th>...</th>\n",
       "      <td>...</td>\n",
       "      <td>...</td>\n",
       "    </tr>\n",
       "    <tr>\n",
       "      <th>363</th>\n",
       "      <td>66000</td>\n",
       "      <td>66000280</td>\n",
       "    </tr>\n",
       "    <tr>\n",
       "      <th>364</th>\n",
       "      <td>66000</td>\n",
       "      <td>66000010</td>\n",
       "    </tr>\n",
       "    <tr>\n",
       "      <th>365</th>\n",
       "      <td>10018</td>\n",
       "      <td>10018020</td>\n",
       "    </tr>\n",
       "    <tr>\n",
       "      <th>366</th>\n",
       "      <td>10004</td>\n",
       "      <td>10004020</td>\n",
       "    </tr>\n",
       "    <tr>\n",
       "      <th>367</th>\n",
       "      <td>10009</td>\n",
       "      <td>10009160</td>\n",
       "    </tr>\n",
       "  </tbody>\n",
       "</table>\n",
       "<p>368 rows × 2 columns</p>\n",
       "</div>"
      ],
      "text/plain": [
       "     COUNTYCODE  TOWNCODE\n",
       "0         64000  64000160\n",
       "1         10014  10014150\n",
       "2         64000  64000120\n",
       "3         10010  10010090\n",
       "4         68000  68000130\n",
       "..          ...       ...\n",
       "363       66000  66000280\n",
       "364       66000  66000010\n",
       "365       10018  10018020\n",
       "366       10004  10004020\n",
       "367       10009  10009160\n",
       "\n",
       "[368 rows x 2 columns]"
      ]
     },
     "execution_count": 5,
     "metadata": {},
     "output_type": "execute_result"
    }
   ],
   "source": [
    "town_df = pd.read_csv(f\"data/processed/town/town.csv\")\n",
    "town_df = town_df[[\"COUNTYCODE\", \"TOWNCODE\"]]\n",
    "town_df"
   ]
  },
  {
   "attachments": {},
   "cell_type": "markdown",
   "metadata": {},
   "source": [
    "## Go to target website"
   ]
  },
  {
   "cell_type": "code",
   "execution_count": 21,
   "metadata": {},
   "outputs": [
    {
     "data": {
      "text/plain": [
       "True"
      ]
     },
     "execution_count": 21,
     "metadata": {},
     "output_type": "execute_result"
    }
   ],
   "source": [
    "driver.get(\"https://www.ris.gov.tw/info-doorplate/app/doorplate/query\")\n",
    "driver.save_screenshot(\"data/temp/screenshot.png\")"
   ]
  },
  {
   "cell_type": "code",
   "execution_count": 22,
   "metadata": {},
   "outputs": [
    {
     "data": {
      "image/png": "[encoded data removed]",
      "text/plain": [
       "<IPython.core.display.Image object>"
      ]
     },
     "execution_count": 22,
     "metadata": {},
     "output_type": "execute_result"
    }
   ],
   "source": [
    "display.Image(\"data/temp/screenshot.png\")"
   ]
  },
  {
   "attachments": {},
   "cell_type": "markdown",
   "metadata": {},
   "source": [
    "## Prepare default query data\n",
    "\n",
    "We're going to query the addresses of each town. The query data primarily needs these fields:\n",
    "\n",
    "- `cityCode`: the county code.\n",
    "- `areaCode`: the town code.\n",
    "- `rows`: set to `99999999` to get all addresses of that town at once.\n",
    "- `captchaKey`: the key of captcha image.\n",
    "- `captchaInput`: decoded result of captcha image.\n",
    "- `sDate` and `eDate`: start-date and end-date. The response data of every address has `date` field that indicates created, updated or removed date of that address. Usually, we're querying all addresses so set `eDate` to present date."
   ]
  },
  {
   "cell_type": "code",
   "execution_count": 24,
   "metadata": {},
   "outputs": [
    {
     "data": {
      "text/plain": [
       "{'searchType': 'date',\n",
       " 'cityCode': '65000000',\n",
       " 'tkt': '-1',\n",
       " 'areaCode': '65000290',\n",
       " 'village': '',\n",
       " 'neighbor': '',\n",
       " 'sDate': '001-01-01',\n",
       " 'eDate': '111-12-01',\n",
       " 'includeNoDate': 'true',\n",
       " '_includeNoDate': 'on',\n",
       " 'registerKind': '0',\n",
       " 'floor': '',\n",
       " 'lane': '',\n",
       " 'alley': '',\n",
       " 'number': '',\n",
       " 'number1': '',\n",
       " 'ext': '',\n",
       " '_search': 'false',\n",
       " 'nd': '',\n",
       " 'rows': '99999999',\n",
       " 'page': '1',\n",
       " 'sidx': '',\n",
       " 'sord': 'asc',\n",
       " 'captchaInput': 'xxxxx',\n",
       " 'captchaKey': 'xxxxxxxxxxxxxxxxxxxxxxxxxxxxxxxx'}"
      ]
     },
     "execution_count": 24,
     "metadata": {},
     "output_type": "execute_result"
    }
   ],
   "source": [
    "query_url = \"https://www.ris.gov.tw/info-doorplate/app/doorplate/inquiry/date\"\n",
    "query_data = lines_to_dict(\"data/external/query_data.txt\")\n",
    "query_data[\"eDate\"] = QUERY_END_DATE\n",
    "\n",
    "query_data"
   ]
  },
  {
   "attachments": {},
   "cell_type": "markdown",
   "metadata": {},
   "source": [
    "## Test run\n",
    "\n",
    "The website has captcha protection, so we need to decode the captcha image and send the query with the `captchaKey` (representing the image) and `captchaInput` (decoded result). \n",
    "\n",
    "Whether successful or not, the response data will contain the `captchaKey` for the next request. Using this `captchaKey`, we can get the captcha image that we need to decode for the next request.\n",
    "\n",
    "By repeating the above steps, we can get the full list of Taiwanese addresses.\n",
    "\n",
    "However, to start the iteration, we have to trigger `get_address_data()` first to get the `captchaKey` for the next request."
   ]
  },
  {
   "cell_type": "code",
   "execution_count": 25,
   "metadata": {},
   "outputs": [
    {
     "data": {
      "text/html": [
       "<div>\n",
       "<style scoped>\n",
       "    .dataframe tbody tr th:only-of-type {\n",
       "        vertical-align: middle;\n",
       "    }\n",
       "\n",
       "    .dataframe tbody tr th {\n",
       "        vertical-align: top;\n",
       "    }\n",
       "\n",
       "    .dataframe thead th {\n",
       "        text-align: right;\n",
       "    }\n",
       "</style>\n",
       "<table border=\"1\" class=\"dataframe\">\n",
       "  <thead>\n",
       "    <tr style=\"text-align: right;\">\n",
       "      <th></th>\n",
       "      <th>v1</th>\n",
       "      <th>v2</th>\n",
       "      <th>v3</th>\n",
       "    </tr>\n",
       "  </thead>\n",
       "  <tbody>\n",
       "    <tr>\n",
       "      <th>0</th>\n",
       "      <td>新北市烏來區烏來里011鄰環山路１５９巷１０號之５</td>\n",
       "      <td>民國111年8月30日</td>\n",
       "      <td>1</td>\n",
       "    </tr>\n",
       "    <tr>\n",
       "      <th>1</th>\n",
       "      <td>新北市烏來區烏來里009鄰溫泉街８６巷１２號之２</td>\n",
       "      <td>民國111年8月29日</td>\n",
       "      <td>1</td>\n",
       "    </tr>\n",
       "    <tr>\n",
       "      <th>2</th>\n",
       "      <td>新北市烏來區烏來里009鄰溫泉街８６巷１２號之１</td>\n",
       "      <td>民國111年8月25日</td>\n",
       "      <td>1</td>\n",
       "    </tr>\n",
       "    <tr>\n",
       "      <th>3</th>\n",
       "      <td>新北市烏來區福山里004鄰大羅蘭１１號之１</td>\n",
       "      <td>民國111年7月12日</td>\n",
       "      <td>1</td>\n",
       "    </tr>\n",
       "    <tr>\n",
       "      <th>4</th>\n",
       "      <td>新北市烏來區忠治里007鄰金堰２２號之８</td>\n",
       "      <td>民國111年3月29日</td>\n",
       "      <td>1</td>\n",
       "    </tr>\n",
       "    <tr>\n",
       "      <th>...</th>\n",
       "      <td>...</td>\n",
       "      <td>...</td>\n",
       "      <td>...</td>\n",
       "    </tr>\n",
       "    <tr>\n",
       "      <th>1782</th>\n",
       "      <td>新北市烏來區烏來里011鄰野要街９１號之２</td>\n",
       "      <td>民國099年12月25日</td>\n",
       "      <td>6</td>\n",
       "    </tr>\n",
       "    <tr>\n",
       "      <th>1783</th>\n",
       "      <td>新北市烏來區烏來里011鄰野要街９１號之３</td>\n",
       "      <td>民國099年12月25日</td>\n",
       "      <td>6</td>\n",
       "    </tr>\n",
       "    <tr>\n",
       "      <th>1784</th>\n",
       "      <td>新北市烏來區信賢里001鄰信福路２巷１５號之１</td>\n",
       "      <td>民國098年5月7日</td>\n",
       "      <td>1</td>\n",
       "    </tr>\n",
       "    <tr>\n",
       "      <th>1785</th>\n",
       "      <td>新北市烏來區信賢里004鄰娃娃谷５３之１號</td>\n",
       "      <td>未記載</td>\n",
       "      <td>7</td>\n",
       "    </tr>\n",
       "    <tr>\n",
       "      <th>1786</th>\n",
       "      <td>新北市烏來區忠治里003鄰新烏路五段２６號二樓</td>\n",
       "      <td>未記載</td>\n",
       "      <td>7</td>\n",
       "    </tr>\n",
       "  </tbody>\n",
       "</table>\n",
       "<p>1787 rows × 3 columns</p>\n",
       "</div>"
      ],
      "text/plain": [
       "                             v1            v2 v3\n",
       "0     新北市烏來區烏來里011鄰環山路１５９巷１０號之５   民國111年8月30日  1\n",
       "1      新北市烏來區烏來里009鄰溫泉街８６巷１２號之２   民國111年8月29日  1\n",
       "2      新北市烏來區烏來里009鄰溫泉街８６巷１２號之１   民國111年8月25日  1\n",
       "3         新北市烏來區福山里004鄰大羅蘭１１號之１   民國111年7月12日  1\n",
       "4          新北市烏來區忠治里007鄰金堰２２號之８   民國111年3月29日  1\n",
       "...                         ...           ... ..\n",
       "1782      新北市烏來區烏來里011鄰野要街９１號之２  民國099年12月25日  6\n",
       "1783      新北市烏來區烏來里011鄰野要街９１號之３  民國099年12月25日  6\n",
       "1784    新北市烏來區信賢里001鄰信福路２巷１５號之１    民國098年5月7日  1\n",
       "1785      新北市烏來區信賢里004鄰娃娃谷５３之１號           未記載  7\n",
       "1786    新北市烏來區忠治里003鄰新烏路五段２６號二樓           未記載  7\n",
       "\n",
       "[1787 rows x 3 columns]"
      ]
     },
     "execution_count": 25,
     "metadata": {},
     "output_type": "execute_result"
    }
   ],
   "source": [
    "# - trigger get_address_data() first to get the captchaKey for the next request\n",
    "_, query_data[\"captchaKey\"] = get_address_data(driver, query_data)\n",
    "\n",
    "# - test run\n",
    "query_data[\"captchaInput\"] = save_and_decode_captcha_image(\n",
    "    driver,\n",
    "    solver,\n",
    "    img_dir,\n",
    "    query_data[\"captchaKey\"],\n",
    ")\n",
    "\n",
    "address_list, query_data[\"captchaKey\"] = get_address_data(driver, query_data)\n",
    "\n",
    "town_address_df = pd.DataFrame.from_dict(address_list)\n",
    "town_address_df"
   ]
  },
  {
   "attachments": {},
   "cell_type": "markdown",
   "metadata": {},
   "source": [
    "## Start scraping\n",
    "\n",
    "estimated time: 120 minutes"
   ]
  },
  {
   "cell_type": "code",
   "execution_count": null,
   "metadata": {},
   "outputs": [],
   "source": [
    "address_df = pd.DataFrame()\n",
    "\n",
    "for i, row in town_df.iterrows():\n",
    "    query_data[\"cityCode\"] = row.COUNTYCODE\n",
    "    query_data[\"areaCode\"] = row.TOWNCODE\n",
    "\n",
    "    try_times = 0\n",
    "    address_list = []\n",
    "    while not address_list:\n",
    "        if try_times == 10:\n",
    "            raise Exception\n",
    "\n",
    "        try_times += 1\n",
    "        # print(f\"{try_times=}\")\n",
    "\n",
    "        address_list, query_data[\"captchaKey\"] = get_address_data(driver, query_data)\n",
    "\n",
    "        query_data[\"captchaInput\"] = save_and_decode_captcha_image(\n",
    "            driver,\n",
    "            solver,\n",
    "            img_dir,\n",
    "            query_data[\"captchaKey\"],\n",
    "        )\n",
    "\n",
    "    # - process town addresses\n",
    "    town_address_df = pd.DataFrame.from_dict(address_list)\n",
    "    town_address_df.columns = [\"ADDRESS\", \"DATE\", \"ADDRESS_TYPE\"]\n",
    "    town_address_df = town_address_df.assign(**row)\n",
    "    address_df = pd.concat([address_df, town_address_df], ignore_index=True)"
   ]
  },
  {
   "attachments": {},
   "cell_type": "markdown",
   "metadata": {},
   "source": [
    "## Output data"
   ]
  },
  {
   "cell_type": "code",
   "execution_count": null,
   "metadata": {},
   "outputs": [],
   "source": [
    "if not os.path.exists(output_dir):\n",
    "    os.mkdir(output_dir)\n",
    "\n",
    "address_df.to_csv(f\"{output_dir}/address_{SESSION}.csv\", index=False)\n",
    "\n",
    "sample_address_df = address_df.sample(frac=0.01, random_state=1)\n",
    "sample_address_df.to_csv(f\"{output_dir}/sample_address.csv\", index=False)"
   ]
  },
  {
   "attachments": {},
   "cell_type": "markdown",
   "metadata": {},
   "source": [
    "## Examine data"
   ]
  },
  {
   "cell_type": "code",
   "execution_count": 9,
   "metadata": {},
   "outputs": [
    {
     "data": {
      "text/html": [
       "<div>\n",
       "<style scoped>\n",
       "    .dataframe tbody tr th:only-of-type {\n",
       "        vertical-align: middle;\n",
       "    }\n",
       "\n",
       "    .dataframe tbody tr th {\n",
       "        vertical-align: top;\n",
       "    }\n",
       "\n",
       "    .dataframe thead th {\n",
       "        text-align: right;\n",
       "    }\n",
       "</style>\n",
       "<table border=\"1\" class=\"dataframe\">\n",
       "  <thead>\n",
       "    <tr style=\"text-align: right;\">\n",
       "      <th></th>\n",
       "      <th>ADDRESS</th>\n",
       "      <th>DATE</th>\n",
       "      <th>ADDRESS_TYPE</th>\n",
       "      <th>COUNTYCODE</th>\n",
       "      <th>TOWNCODE</th>\n",
       "    </tr>\n",
       "  </thead>\n",
       "  <tbody>\n",
       "    <tr>\n",
       "      <th>0</th>\n",
       "      <td>大社區翠屏里016鄰中山路６７７之５號</td>\n",
       "      <td>民國111年11月28日</td>\n",
       "      <td>1</td>\n",
       "      <td>64000</td>\n",
       "      <td>64000160</td>\n",
       "    </tr>\n",
       "    <tr>\n",
       "      <th>1</th>\n",
       "      <td>大社區保社里018鄰萬金路１１０巷２１號三樓</td>\n",
       "      <td>民國111年11月15日</td>\n",
       "      <td>1</td>\n",
       "      <td>64000</td>\n",
       "      <td>64000160</td>\n",
       "    </tr>\n",
       "    <tr>\n",
       "      <th>2</th>\n",
       "      <td>大社區保社里018鄰萬金路１１０巷２１號二樓</td>\n",
       "      <td>民國111年11月15日</td>\n",
       "      <td>1</td>\n",
       "      <td>64000</td>\n",
       "      <td>64000160</td>\n",
       "    </tr>\n",
       "    <tr>\n",
       "      <th>3</th>\n",
       "      <td>大社區保社里018鄰萬金路１１０巷２１號四樓</td>\n",
       "      <td>民國111年11月15日</td>\n",
       "      <td>1</td>\n",
       "      <td>64000</td>\n",
       "      <td>64000160</td>\n",
       "    </tr>\n",
       "    <tr>\n",
       "      <th>4</th>\n",
       "      <td>大社區保社里018鄰萬金路１１０巷２１號五樓</td>\n",
       "      <td>民國111年11月15日</td>\n",
       "      <td>1</td>\n",
       "      <td>64000</td>\n",
       "      <td>64000160</td>\n",
       "    </tr>\n",
       "    <tr>\n",
       "      <th>...</th>\n",
       "      <td>...</td>\n",
       "      <td>...</td>\n",
       "      <td>...</td>\n",
       "      <td>...</td>\n",
       "      <td>...</td>\n",
       "    </tr>\n",
       "    <tr>\n",
       "      <th>10321973</th>\n",
       "      <td>臺西鄉泉州村004鄰泉州５９號之１</td>\n",
       "      <td>未記載</td>\n",
       "      <td>1</td>\n",
       "      <td>10009</td>\n",
       "      <td>10009160</td>\n",
       "    </tr>\n",
       "    <tr>\n",
       "      <th>10321974</th>\n",
       "      <td>臺西鄉和豐村005鄰崙豐路２９１巷１０９號</td>\n",
       "      <td>未記載</td>\n",
       "      <td>1</td>\n",
       "      <td>10009</td>\n",
       "      <td>10009160</td>\n",
       "    </tr>\n",
       "    <tr>\n",
       "      <th>10321975</th>\n",
       "      <td>臺西鄉永豐村020鄰崙豐路１號之６</td>\n",
       "      <td>未記載</td>\n",
       "      <td>1</td>\n",
       "      <td>10009</td>\n",
       "      <td>10009160</td>\n",
       "    </tr>\n",
       "    <tr>\n",
       "      <th>10321976</th>\n",
       "      <td>臺西鄉海口村029鄰海豐路５５號</td>\n",
       "      <td>未記載</td>\n",
       "      <td>1</td>\n",
       "      <td>10009</td>\n",
       "      <td>10009160</td>\n",
       "    </tr>\n",
       "    <tr>\n",
       "      <th>10321977</th>\n",
       "      <td>臺西鄉蚊港村021鄰三姓７１號</td>\n",
       "      <td>未記載</td>\n",
       "      <td>7</td>\n",
       "      <td>10009</td>\n",
       "      <td>10009160</td>\n",
       "    </tr>\n",
       "  </tbody>\n",
       "</table>\n",
       "<p>10321978 rows × 5 columns</p>\n",
       "</div>"
      ],
      "text/plain": [
       "                         ADDRESS          DATE ADDRESS_TYPE COUNTYCODE  \\\n",
       "0            大社區翠屏里016鄰中山路６７７之５號  民國111年11月28日            1      64000   \n",
       "1         大社區保社里018鄰萬金路１１０巷２１號三樓  民國111年11月15日            1      64000   \n",
       "2         大社區保社里018鄰萬金路１１０巷２１號二樓  民國111年11月15日            1      64000   \n",
       "3         大社區保社里018鄰萬金路１１０巷２１號四樓  民國111年11月15日            1      64000   \n",
       "4         大社區保社里018鄰萬金路１１０巷２１號五樓  民國111年11月15日            1      64000   \n",
       "...                          ...           ...          ...        ...   \n",
       "10321973       臺西鄉泉州村004鄰泉州５９號之１           未記載            1      10009   \n",
       "10321974   臺西鄉和豐村005鄰崙豐路２９１巷１０９號           未記載            1      10009   \n",
       "10321975       臺西鄉永豐村020鄰崙豐路１號之６           未記載            1      10009   \n",
       "10321976        臺西鄉海口村029鄰海豐路５５號           未記載            1      10009   \n",
       "10321977         臺西鄉蚊港村021鄰三姓７１號           未記載            7      10009   \n",
       "\n",
       "          TOWNCODE  \n",
       "0         64000160  \n",
       "1         64000160  \n",
       "2         64000160  \n",
       "3         64000160  \n",
       "4         64000160  \n",
       "...            ...  \n",
       "10321973  10009160  \n",
       "10321974  10009160  \n",
       "10321975  10009160  \n",
       "10321976  10009160  \n",
       "10321977  10009160  \n",
       "\n",
       "[10321978 rows x 5 columns]"
      ]
     },
     "execution_count": 9,
     "metadata": {},
     "output_type": "execute_result"
    }
   ],
   "source": [
    "address_df = pd.read_csv(f\"{output_dir}/address_{SESSION}.csv\", low_memory=False, dtype=str)\n",
    "address_df"
   ]
  },
  {
   "cell_type": "code",
   "execution_count": 15,
   "metadata": {},
   "outputs": [
    {
     "data": {
      "text/plain": [
       "True"
      ]
     },
     "execution_count": 15,
     "metadata": {},
     "output_type": "execute_result"
    }
   ],
   "source": [
    "town_df.TOWNCODE.nunique() == address_df.TOWNCODE.nunique()"
   ]
  },
  {
   "cell_type": "code",
   "execution_count": 23,
   "metadata": {},
   "outputs": [
    {
     "data": {
      "text/plain": [
       "65000010    246824\n",
       "68000010    212072\n",
       "68000020    201097\n",
       "65000030    197103\n",
       "65000020    184856\n",
       "             ...  \n",
       "10014110       926\n",
       "09007030       603\n",
       "64000360       567\n",
       "09007040       456\n",
       "09020060        79\n",
       "Name: TOWNCODE, Length: 368, dtype: int64"
      ]
     },
     "execution_count": 23,
     "metadata": {},
     "output_type": "execute_result"
    }
   ],
   "source": [
    "counts_df = address_df.TOWNCODE.value_counts()\n",
    "counts_df"
   ]
  },
  {
   "cell_type": "code",
   "execution_count": 21,
   "metadata": {},
   "outputs": [
    {
     "data": {
      "text/plain": [
       "count       368.000000\n",
       "mean      28048.853261\n",
       "std       38684.181128\n",
       "min          79.000000\n",
       "25%        5056.250000\n",
       "50%       11892.500000\n",
       "75%       34293.500000\n",
       "max      246824.000000\n",
       "Name: TOWNCODE, dtype: float64"
      ]
     },
     "execution_count": 21,
     "metadata": {},
     "output_type": "execute_result"
    }
   ],
   "source": [
    "counts_df.describe()"
   ]
  }
 ],
 "metadata": {
  "kernelspec": {
   "display_name": "Python 3 (ipykernel)",
   "language": "python",
   "name": "python3"
  },
  "language_info": {
   "codemirror_mode": {
    "name": "ipython",
    "version": 3
   },
   "file_extension": ".py",
   "mimetype": "text/x-python",
   "name": "python",
   "nbconvert_exporter": "python",
   "pygments_lexer": "ipython3",
   "version": "3.11.1"
  },
  "orig_nbformat": 4,
  "vscode": {
   "interpreter": {
    "hash": "949777d72b0d2535278d3dc13498b2535136f6dfe0678499012e853ee9abcab1"
   }
  }
 },
 "nbformat": 4,
 "nbformat_minor": 2
}
