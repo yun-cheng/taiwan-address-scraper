{
 "cells": [
  {
   "attachments": {},
   "cell_type": "markdown",
   "metadata": {},
   "source": [
    "# Process Town Data\n",
    "\n",
    "Data source: <https://data.gov.tw/dataset/7441>"
   ]
  },
  {
   "cell_type": "code",
   "execution_count": 3,
   "metadata": {},
   "outputs": [],
   "source": [
    "import pandas as pd\n",
    "\n",
    "from helpers import process_town_data"
   ]
  },
  {
   "cell_type": "code",
   "execution_count": 4,
   "metadata": {},
   "outputs": [],
   "source": [
    "process_town_data()"
   ]
  },
  {
   "cell_type": "code",
   "execution_count": 5,
   "metadata": {},
   "outputs": [
    {
     "data": {
      "text/html": [
       "<div>\n",
       "<style scoped>\n",
       "    .dataframe tbody tr th:only-of-type {\n",
       "        vertical-align: middle;\n",
       "    }\n",
       "\n",
       "    .dataframe tbody tr th {\n",
       "        vertical-align: top;\n",
       "    }\n",
       "\n",
       "    .dataframe thead th {\n",
       "        text-align: right;\n",
       "    }\n",
       "</style>\n",
       "<table border=\"1\" class=\"dataframe\">\n",
       "  <thead>\n",
       "    <tr style=\"text-align: right;\">\n",
       "      <th></th>\n",
       "      <th>COUNTYCODE</th>\n",
       "      <th>TOWNCODE</th>\n",
       "      <th>COUNTYNAME</th>\n",
       "      <th>TOWNNAME</th>\n",
       "    </tr>\n",
       "  </thead>\n",
       "  <tbody>\n",
       "    <tr>\n",
       "      <th>0</th>\n",
       "      <td>64000</td>\n",
       "      <td>64000160</td>\n",
       "      <td>高雄市</td>\n",
       "      <td>大社區</td>\n",
       "    </tr>\n",
       "    <tr>\n",
       "      <th>1</th>\n",
       "      <td>10014</td>\n",
       "      <td>10014150</td>\n",
       "      <td>臺東縣</td>\n",
       "      <td>達仁鄉</td>\n",
       "    </tr>\n",
       "    <tr>\n",
       "      <th>2</th>\n",
       "      <td>64000</td>\n",
       "      <td>64000120</td>\n",
       "      <td>高雄市</td>\n",
       "      <td>鳳山區</td>\n",
       "    </tr>\n",
       "    <tr>\n",
       "      <th>3</th>\n",
       "      <td>10010</td>\n",
       "      <td>10010090</td>\n",
       "      <td>嘉義縣</td>\n",
       "      <td>東石鄉</td>\n",
       "    </tr>\n",
       "    <tr>\n",
       "      <th>4</th>\n",
       "      <td>68000</td>\n",
       "      <td>68000130</td>\n",
       "      <td>桃園市</td>\n",
       "      <td>復興區</td>\n",
       "    </tr>\n",
       "    <tr>\n",
       "      <th>...</th>\n",
       "      <td>...</td>\n",
       "      <td>...</td>\n",
       "      <td>...</td>\n",
       "      <td>...</td>\n",
       "    </tr>\n",
       "    <tr>\n",
       "      <th>363</th>\n",
       "      <td>66000</td>\n",
       "      <td>66000280</td>\n",
       "      <td>臺中市</td>\n",
       "      <td>大里區</td>\n",
       "    </tr>\n",
       "    <tr>\n",
       "      <th>364</th>\n",
       "      <td>66000</td>\n",
       "      <td>66000010</td>\n",
       "      <td>臺中市</td>\n",
       "      <td>中區</td>\n",
       "    </tr>\n",
       "    <tr>\n",
       "      <th>365</th>\n",
       "      <td>10018</td>\n",
       "      <td>10018020</td>\n",
       "      <td>新竹市</td>\n",
       "      <td>北區</td>\n",
       "    </tr>\n",
       "    <tr>\n",
       "      <th>366</th>\n",
       "      <td>10004</td>\n",
       "      <td>10004020</td>\n",
       "      <td>新竹縣</td>\n",
       "      <td>竹東鎮</td>\n",
       "    </tr>\n",
       "    <tr>\n",
       "      <th>367</th>\n",
       "      <td>10009</td>\n",
       "      <td>10009160</td>\n",
       "      <td>雲林縣</td>\n",
       "      <td>臺西鄉</td>\n",
       "    </tr>\n",
       "  </tbody>\n",
       "</table>\n",
       "<p>368 rows × 4 columns</p>\n",
       "</div>"
      ],
      "text/plain": [
       "     COUNTYCODE  TOWNCODE COUNTYNAME TOWNNAME\n",
       "0         64000  64000160        高雄市      大社區\n",
       "1         10014  10014150        臺東縣      達仁鄉\n",
       "2         64000  64000120        高雄市      鳳山區\n",
       "3         10010  10010090        嘉義縣      東石鄉\n",
       "4         68000  68000130        桃園市      復興區\n",
       "..          ...       ...        ...      ...\n",
       "363       66000  66000280        臺中市      大里區\n",
       "364       66000  66000010        臺中市       中區\n",
       "365       10018  10018020        新竹市       北區\n",
       "366       10004  10004020        新竹縣      竹東鎮\n",
       "367       10009  10009160        雲林縣      臺西鄉\n",
       "\n",
       "[368 rows x 4 columns]"
      ]
     },
     "execution_count": 5,
     "metadata": {},
     "output_type": "execute_result"
    }
   ],
   "source": [
    "town_df = pd.read_csv(\"data/processed/town/town.csv\")\n",
    "town_df"
   ]
  }
 ],
 "metadata": {
  "kernelspec": {
   "display_name": "Python 3",
   "language": "python",
   "name": "python3"
  },
  "language_info": {
   "codemirror_mode": {
    "name": "ipython",
    "version": 3
   },
   "file_extension": ".py",
   "mimetype": "text/x-python",
   "name": "python",
   "nbconvert_exporter": "python",
   "pygments_lexer": "ipython3",
   "version": "3.11.1 (main, Dec 21 2022, 18:32:57) [GCC 10.2.1 20210110]"
  },
  "orig_nbformat": 4,
  "vscode": {
   "interpreter": {
    "hash": "949777d72b0d2535278d3dc13498b2535136f6dfe0678499012e853ee9abcab1"
   }
  }
 },
 "nbformat": 4,
 "nbformat_minor": 2
}
